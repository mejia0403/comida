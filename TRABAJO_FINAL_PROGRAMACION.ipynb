{
  "nbformat": 4,
  "nbformat_minor": 0,
  "metadata": {
    "colab": {
      "name": "TRABAJO_FINAL_PROGRAMACION.ipynb",
      "provenance": [],
      "collapsed_sections": [],
      "authorship_tag": "ABX9TyO4f2w41GnLZMdSOIqrPcLi",
      "include_colab_link": true
    },
    "kernelspec": {
      "name": "python3",
      "display_name": "Python 3"
    },
    "language_info": {
      "name": "python"
    }
  },
  "cells": [
    {
      "cell_type": "markdown",
      "metadata": {
        "id": "view-in-github",
        "colab_type": "text"
      },
      "source": [
        "<a href=\"https://colab.research.google.com/github/mejia0403/comida/blob/main/TRABAJO_FINAL_PROGRAMACION.ipynb\" target=\"_parent\"><img src=\"https://colab.research.google.com/assets/colab-badge.svg\" alt=\"Open In Colab\"/></a>"
      ]
    },
    {
      "cell_type": "markdown",
      "source": [
        "# ***TRABAJO FINAL***"
      ],
      "metadata": {
        "id": "idUoLdtZc_rZ"
      }
    },
    {
      "cell_type": "code",
      "execution_count": 37,
      "metadata": {
        "id": "-dyqcUZb-_7E"
      },
      "outputs": [],
      "source": [
        "# importamos libreria panda para leer la base de dats\n",
        "import pandas as pd\n",
        "from google.colab import data_table\n",
        "\n"
      ]
    },
    {
      "cell_type": "code",
      "source": [
        "\n",
        "accidentes = pd.read_csv('datos_accidentes_de_transito3.csv', sep=';')\n",
        "accidentes\n",
        "\n",
        "# definimos 'accidentes' como el nombre de la libreria y que la muestre en forma de tabla "
      ],
      "metadata": {
        "colab": {
          "base_uri": "https://localhost:8080/",
          "height": 424
        },
        "id": "2q8fOvTeA69M",
        "outputId": "0d5c2b0b-83af-43ef-dc8f-342cf8257099"
      },
      "execution_count": 39,
      "outputs": [
        {
          "output_type": "execute_result",
          "data": {
            "text/plain": [
              "              MEDIO DEPARTAMENTO          MUNICIPIO FECHA HECHO     GENERO  \\\n",
              "0         BICICLETA    ANTIOQUIA              PEÑOL   3/01/2021  MASCULINO   \n",
              "1         BICICLETA    ANTIOQUIA        SAN VICENTE  25/05/2021  MASCULINO   \n",
              "2         BICICLETA    ATLÁNTICO  BARRANQUILLA (CT)   9/01/2021   FEMENINO   \n",
              "3         BICICLETA       BOYACÁ       CHIQUINQUIRÁ  14/04/2021  MASCULINO   \n",
              "4         BICICLETA       BOYACÁ            DUITAMA  22/05/2021  MASCULINO   \n",
              "...             ...          ...                ...         ...        ...   \n",
              "23369  NO REPORTADO        VALLE             ZARZAL   7/11/2021  MASCULINO   \n",
              "23370  NO REPORTADO        VALLE             ZARZAL  15/11/2021  MASCULINO   \n",
              "23371  NO REPORTADO        VALLE             ZARZAL  12/12/2021  MASCULINO   \n",
              "23372  NO REPORTADO        VALLE             ZARZAL  23/12/2021  MASCULINO   \n",
              "23373           NaN          NaN                NaN         NaN        NaN   \n",
              "\n",
              "      GRUPOEDAD   CANTIDAD   \n",
              "0        ADULTOS        1.0  \n",
              "1        ADULTOS        1.0  \n",
              "2        ADULTOS        1.0  \n",
              "3        ADULTOS        1.0  \n",
              "4        ADULTOS        1.0  \n",
              "...          ...        ...  \n",
              "23369    ADULTOS        1.0  \n",
              "23370    ADULTOS        1.0  \n",
              "23371    ADULTOS        1.0  \n",
              "23372    ADULTOS        1.0  \n",
              "23373        NaN        NaN  \n",
              "\n",
              "[23374 rows x 7 columns]"
            ],
            "text/html": [
              "\n",
              "  <div id=\"df-99d5dee3-1ad4-40cc-be12-5ae3bc0e4240\">\n",
              "    <div class=\"colab-df-container\">\n",
              "      <div>\n",
              "<style scoped>\n",
              "    .dataframe tbody tr th:only-of-type {\n",
              "        vertical-align: middle;\n",
              "    }\n",
              "\n",
              "    .dataframe tbody tr th {\n",
              "        vertical-align: top;\n",
              "    }\n",
              "\n",
              "    .dataframe thead th {\n",
              "        text-align: right;\n",
              "    }\n",
              "</style>\n",
              "<table border=\"1\" class=\"dataframe\">\n",
              "  <thead>\n",
              "    <tr style=\"text-align: right;\">\n",
              "      <th></th>\n",
              "      <th>MEDIO</th>\n",
              "      <th>DEPARTAMENTO</th>\n",
              "      <th>MUNICIPIO</th>\n",
              "      <th>FECHA HECHO</th>\n",
              "      <th>GENERO</th>\n",
              "      <th>GRUPOEDAD</th>\n",
              "      <th>CANTIDAD</th>\n",
              "    </tr>\n",
              "  </thead>\n",
              "  <tbody>\n",
              "    <tr>\n",
              "      <th>0</th>\n",
              "      <td>BICICLETA</td>\n",
              "      <td>ANTIOQUIA</td>\n",
              "      <td>PEÑOL</td>\n",
              "      <td>3/01/2021</td>\n",
              "      <td>MASCULINO</td>\n",
              "      <td>ADULTOS</td>\n",
              "      <td>1.0</td>\n",
              "    </tr>\n",
              "    <tr>\n",
              "      <th>1</th>\n",
              "      <td>BICICLETA</td>\n",
              "      <td>ANTIOQUIA</td>\n",
              "      <td>SAN VICENTE</td>\n",
              "      <td>25/05/2021</td>\n",
              "      <td>MASCULINO</td>\n",
              "      <td>ADULTOS</td>\n",
              "      <td>1.0</td>\n",
              "    </tr>\n",
              "    <tr>\n",
              "      <th>2</th>\n",
              "      <td>BICICLETA</td>\n",
              "      <td>ATLÁNTICO</td>\n",
              "      <td>BARRANQUILLA (CT)</td>\n",
              "      <td>9/01/2021</td>\n",
              "      <td>FEMENINO</td>\n",
              "      <td>ADULTOS</td>\n",
              "      <td>1.0</td>\n",
              "    </tr>\n",
              "    <tr>\n",
              "      <th>3</th>\n",
              "      <td>BICICLETA</td>\n",
              "      <td>BOYACÁ</td>\n",
              "      <td>CHIQUINQUIRÁ</td>\n",
              "      <td>14/04/2021</td>\n",
              "      <td>MASCULINO</td>\n",
              "      <td>ADULTOS</td>\n",
              "      <td>1.0</td>\n",
              "    </tr>\n",
              "    <tr>\n",
              "      <th>4</th>\n",
              "      <td>BICICLETA</td>\n",
              "      <td>BOYACÁ</td>\n",
              "      <td>DUITAMA</td>\n",
              "      <td>22/05/2021</td>\n",
              "      <td>MASCULINO</td>\n",
              "      <td>ADULTOS</td>\n",
              "      <td>1.0</td>\n",
              "    </tr>\n",
              "    <tr>\n",
              "      <th>...</th>\n",
              "      <td>...</td>\n",
              "      <td>...</td>\n",
              "      <td>...</td>\n",
              "      <td>...</td>\n",
              "      <td>...</td>\n",
              "      <td>...</td>\n",
              "      <td>...</td>\n",
              "    </tr>\n",
              "    <tr>\n",
              "      <th>23369</th>\n",
              "      <td>NO REPORTADO</td>\n",
              "      <td>VALLE</td>\n",
              "      <td>ZARZAL</td>\n",
              "      <td>7/11/2021</td>\n",
              "      <td>MASCULINO</td>\n",
              "      <td>ADULTOS</td>\n",
              "      <td>1.0</td>\n",
              "    </tr>\n",
              "    <tr>\n",
              "      <th>23370</th>\n",
              "      <td>NO REPORTADO</td>\n",
              "      <td>VALLE</td>\n",
              "      <td>ZARZAL</td>\n",
              "      <td>15/11/2021</td>\n",
              "      <td>MASCULINO</td>\n",
              "      <td>ADULTOS</td>\n",
              "      <td>1.0</td>\n",
              "    </tr>\n",
              "    <tr>\n",
              "      <th>23371</th>\n",
              "      <td>NO REPORTADO</td>\n",
              "      <td>VALLE</td>\n",
              "      <td>ZARZAL</td>\n",
              "      <td>12/12/2021</td>\n",
              "      <td>MASCULINO</td>\n",
              "      <td>ADULTOS</td>\n",
              "      <td>1.0</td>\n",
              "    </tr>\n",
              "    <tr>\n",
              "      <th>23372</th>\n",
              "      <td>NO REPORTADO</td>\n",
              "      <td>VALLE</td>\n",
              "      <td>ZARZAL</td>\n",
              "      <td>23/12/2021</td>\n",
              "      <td>MASCULINO</td>\n",
              "      <td>ADULTOS</td>\n",
              "      <td>1.0</td>\n",
              "    </tr>\n",
              "    <tr>\n",
              "      <th>23373</th>\n",
              "      <td>NaN</td>\n",
              "      <td>NaN</td>\n",
              "      <td>NaN</td>\n",
              "      <td>NaN</td>\n",
              "      <td>NaN</td>\n",
              "      <td>NaN</td>\n",
              "      <td>NaN</td>\n",
              "    </tr>\n",
              "  </tbody>\n",
              "</table>\n",
              "<p>23374 rows × 7 columns</p>\n",
              "</div>\n",
              "      <button class=\"colab-df-convert\" onclick=\"convertToInteractive('df-99d5dee3-1ad4-40cc-be12-5ae3bc0e4240')\"\n",
              "              title=\"Convert this dataframe to an interactive table.\"\n",
              "              style=\"display:none;\">\n",
              "        \n",
              "  <svg xmlns=\"http://www.w3.org/2000/svg\" height=\"24px\"viewBox=\"0 0 24 24\"\n",
              "       width=\"24px\">\n",
              "    <path d=\"M0 0h24v24H0V0z\" fill=\"none\"/>\n",
              "    <path d=\"M18.56 5.44l.94 2.06.94-2.06 2.06-.94-2.06-.94-.94-2.06-.94 2.06-2.06.94zm-11 1L8.5 8.5l.94-2.06 2.06-.94-2.06-.94L8.5 2.5l-.94 2.06-2.06.94zm10 10l.94 2.06.94-2.06 2.06-.94-2.06-.94-.94-2.06-.94 2.06-2.06.94z\"/><path d=\"M17.41 7.96l-1.37-1.37c-.4-.4-.92-.59-1.43-.59-.52 0-1.04.2-1.43.59L10.3 9.45l-7.72 7.72c-.78.78-.78 2.05 0 2.83L4 21.41c.39.39.9.59 1.41.59.51 0 1.02-.2 1.41-.59l7.78-7.78 2.81-2.81c.8-.78.8-2.07 0-2.86zM5.41 20L4 18.59l7.72-7.72 1.47 1.35L5.41 20z\"/>\n",
              "  </svg>\n",
              "      </button>\n",
              "      \n",
              "  <style>\n",
              "    .colab-df-container {\n",
              "      display:flex;\n",
              "      flex-wrap:wrap;\n",
              "      gap: 12px;\n",
              "    }\n",
              "\n",
              "    .colab-df-convert {\n",
              "      background-color: #E8F0FE;\n",
              "      border: none;\n",
              "      border-radius: 50%;\n",
              "      cursor: pointer;\n",
              "      display: none;\n",
              "      fill: #1967D2;\n",
              "      height: 32px;\n",
              "      padding: 0 0 0 0;\n",
              "      width: 32px;\n",
              "    }\n",
              "\n",
              "    .colab-df-convert:hover {\n",
              "      background-color: #E2EBFA;\n",
              "      box-shadow: 0px 1px 2px rgba(60, 64, 67, 0.3), 0px 1px 3px 1px rgba(60, 64, 67, 0.15);\n",
              "      fill: #174EA6;\n",
              "    }\n",
              "\n",
              "    [theme=dark] .colab-df-convert {\n",
              "      background-color: #3B4455;\n",
              "      fill: #D2E3FC;\n",
              "    }\n",
              "\n",
              "    [theme=dark] .colab-df-convert:hover {\n",
              "      background-color: #434B5C;\n",
              "      box-shadow: 0px 1px 3px 1px rgba(0, 0, 0, 0.15);\n",
              "      filter: drop-shadow(0px 1px 2px rgba(0, 0, 0, 0.3));\n",
              "      fill: #FFFFFF;\n",
              "    }\n",
              "  </style>\n",
              "\n",
              "      <script>\n",
              "        const buttonEl =\n",
              "          document.querySelector('#df-99d5dee3-1ad4-40cc-be12-5ae3bc0e4240 button.colab-df-convert');\n",
              "        buttonEl.style.display =\n",
              "          google.colab.kernel.accessAllowed ? 'block' : 'none';\n",
              "\n",
              "        async function convertToInteractive(key) {\n",
              "          const element = document.querySelector('#df-99d5dee3-1ad4-40cc-be12-5ae3bc0e4240');\n",
              "          const dataTable =\n",
              "            await google.colab.kernel.invokeFunction('convertToInteractive',\n",
              "                                                     [key], {});\n",
              "          if (!dataTable) return;\n",
              "\n",
              "          const docLinkHtml = 'Like what you see? Visit the ' +\n",
              "            '<a target=\"_blank\" href=https://colab.research.google.com/notebooks/data_table.ipynb>data table notebook</a>'\n",
              "            + ' to learn more about interactive tables.';\n",
              "          element.innerHTML = '';\n",
              "          dataTable['output_type'] = 'display_data';\n",
              "          await google.colab.output.renderOutput(dataTable, element);\n",
              "          const docLink = document.createElement('div');\n",
              "          docLink.innerHTML = docLinkHtml;\n",
              "          element.appendChild(docLink);\n",
              "        }\n",
              "      </script>\n",
              "    </div>\n",
              "  </div>\n",
              "  "
            ]
          },
          "metadata": {},
          "execution_count": 39
        }
      ]
    },
    {
      "cell_type": "markdown",
      "source": [
        "# ***HIPOTESIS***"
      ],
      "metadata": {
        "id": "-UhfTLCpOHeg"
      }
    },
    {
      "cell_type": "code",
      "source": [
        "# la primer hipotesis nos dice que el genero Masculino es la poblacion con mayores accidentes\n",
        "accidentes['GENERO'].value_counts()"
      ],
      "metadata": {
        "colab": {
          "base_uri": "https://localhost:8080/"
        },
        "id": "XMxP4KxYOMAh",
        "outputId": "79a6eedf-adc9-457c-cf52-5235987bdfca"
      },
      "execution_count": 5,
      "outputs": [
        {
          "output_type": "execute_result",
          "data": {
            "text/plain": [
              "MASCULINO       15523\n",
              "FEMENINO         7835\n",
              "NO REPORTADO       15\n",
              "Name: GENERO, dtype: int64"
            ]
          },
          "metadata": {},
          "execution_count": 5
        }
      ]
    },
    {
      "cell_type": "code",
      "source": [
        "\n",
        "accidentes_y = accidentes[accidentes['GENERO']=='MASCULINO']\n",
        "accidentes_y['MEDIO'].value_counts()\n",
        "\n"
      ],
      "metadata": {
        "colab": {
          "base_uri": "https://localhost:8080/"
        },
        "id": "YsJ7bbbAQ-dx",
        "outputId": "fc8330da-3b17-4394-95c4-014073254058"
      },
      "execution_count": 31,
      "outputs": [
        {
          "output_type": "execute_result",
          "data": {
            "text/plain": [
              "VEHICULO        6243\n",
              "PEATON          4642\n",
              "MOTO            3929\n",
              "NO REPORTADO     620\n",
              "BICICLETA         89\n",
              "Name: MEDIO, dtype: int64"
            ]
          },
          "metadata": {},
          "execution_count": 31
        }
      ]
    },
    {
      "cell_type": "code",
      "source": [
        "# la segunda hipotesis busca el vehiculo con mas tasa de accidentes\n",
        "accidentes['MEDIO'].value_counts()"
      ],
      "metadata": {
        "colab": {
          "base_uri": "https://localhost:8080/"
        },
        "id": "4cAdCr5qOzR7",
        "outputId": "bceb1d47-5763-4e9e-b62f-83afca9b6920"
      },
      "execution_count": 32,
      "outputs": [
        {
          "output_type": "execute_result",
          "data": {
            "text/plain": [
              "VEHICULO        9385\n",
              "PEATON          7173\n",
              "MOTO            5798\n",
              "NO REPORTADO     900\n",
              "BICICLETA        117\n",
              "Name: MEDIO, dtype: int64"
            ]
          },
          "metadata": {},
          "execution_count": 32
        }
      ]
    },
    {
      "cell_type": "code",
      "source": [
        "# La tercer hipotesis es acerca de cual es el departamento con mayor registro de accidentes\n",
        "accidentes['DEPARTAMENTO'].value_counts()[0:5]"
      ],
      "metadata": {
        "colab": {
          "base_uri": "https://localhost:8080/"
        },
        "id": "FtHoFmahP1rb",
        "outputId": "5f471fb1-fa98-4582-bd3a-d861d1ac59de"
      },
      "execution_count": 40,
      "outputs": [
        {
          "output_type": "execute_result",
          "data": {
            "text/plain": [
              "VALLE           3665\n",
              "CUNDINAMARCA    3236\n",
              "ANTIOQUIA       2153\n",
              "SANTANDER       2098\n",
              "RISARALDA       1336\n",
              "Name: DEPARTAMENTO, dtype: int64"
            ]
          },
          "metadata": {},
          "execution_count": 40
        }
      ]
    },
    {
      "cell_type": "code",
      "source": [
        "# Quinta hipotesis es que el grupo de edad mas afectado fue el de los ADULTOS\n"
      ],
      "metadata": {
        "id": "W5DgOILIVku3"
      },
      "execution_count": 9,
      "outputs": []
    },
    {
      "cell_type": "markdown",
      "source": [
        "# ***ANALISIS DE DATOS***"
      ],
      "metadata": {
        "id": "bZvJDjHZfKuk"
      }
    },
    {
      "cell_type": "code",
      "source": [
        "# Queremos conocer cuales son los 10 departamentos del pais con mayores accidentes en todo el año\n",
        "\n",
        "accidentes['DEPARTAMENTO'].value_counts()[0:10]"
      ],
      "metadata": {
        "colab": {
          "base_uri": "https://localhost:8080/"
        },
        "id": "xWm9N-oOC1n3",
        "outputId": "41fe68e4-e847-432a-ae50-56534dd2dc3d"
      },
      "execution_count": 28,
      "outputs": [
        {
          "output_type": "execute_result",
          "data": {
            "text/plain": [
              "VALLE           3665\n",
              "CUNDINAMARCA    3236\n",
              "ANTIOQUIA       2153\n",
              "SANTANDER       2098\n",
              "RISARALDA       1336\n",
              "CALDAS          1309\n",
              "TOLIMA          1211\n",
              "META            1150\n",
              "BOYACÁ          1016\n",
              "HUILA            953\n",
              "Name: DEPARTAMENTO, dtype: int64"
            ]
          },
          "metadata": {},
          "execution_count": 28
        }
      ]
    },
    {
      "cell_type": "code",
      "source": [
        "accidentes.groupby(by='MEDIO').sum('CANTIDAD')"
      ],
      "metadata": {
        "colab": {
          "base_uri": "https://localhost:8080/",
          "height": 237
        },
        "id": "yctD2OuHdwf5",
        "outputId": "380a7216-5581-41a2-f157-66ede83ce42b"
      },
      "execution_count": 11,
      "outputs": [
        {
          "output_type": "execute_result",
          "data": {
            "text/plain": [
              "              CANTIDAD \n",
              "MEDIO                  \n",
              "BICICLETA         140.0\n",
              "MOTO             7755.0\n",
              "NO REPORTADO     1304.0\n",
              "PEATON          11052.0\n",
              "VEHICULO        13870.0"
            ],
            "text/html": [
              "\n",
              "  <div id=\"df-26adc495-ea78-4e1d-8e28-3370613f5b2e\">\n",
              "    <div class=\"colab-df-container\">\n",
              "      <div>\n",
              "<style scoped>\n",
              "    .dataframe tbody tr th:only-of-type {\n",
              "        vertical-align: middle;\n",
              "    }\n",
              "\n",
              "    .dataframe tbody tr th {\n",
              "        vertical-align: top;\n",
              "    }\n",
              "\n",
              "    .dataframe thead th {\n",
              "        text-align: right;\n",
              "    }\n",
              "</style>\n",
              "<table border=\"1\" class=\"dataframe\">\n",
              "  <thead>\n",
              "    <tr style=\"text-align: right;\">\n",
              "      <th></th>\n",
              "      <th>CANTIDAD</th>\n",
              "    </tr>\n",
              "    <tr>\n",
              "      <th>MEDIO</th>\n",
              "      <th></th>\n",
              "    </tr>\n",
              "  </thead>\n",
              "  <tbody>\n",
              "    <tr>\n",
              "      <th>BICICLETA</th>\n",
              "      <td>140.0</td>\n",
              "    </tr>\n",
              "    <tr>\n",
              "      <th>MOTO</th>\n",
              "      <td>7755.0</td>\n",
              "    </tr>\n",
              "    <tr>\n",
              "      <th>NO REPORTADO</th>\n",
              "      <td>1304.0</td>\n",
              "    </tr>\n",
              "    <tr>\n",
              "      <th>PEATON</th>\n",
              "      <td>11052.0</td>\n",
              "    </tr>\n",
              "    <tr>\n",
              "      <th>VEHICULO</th>\n",
              "      <td>13870.0</td>\n",
              "    </tr>\n",
              "  </tbody>\n",
              "</table>\n",
              "</div>\n",
              "      <button class=\"colab-df-convert\" onclick=\"convertToInteractive('df-26adc495-ea78-4e1d-8e28-3370613f5b2e')\"\n",
              "              title=\"Convert this dataframe to an interactive table.\"\n",
              "              style=\"display:none;\">\n",
              "        \n",
              "  <svg xmlns=\"http://www.w3.org/2000/svg\" height=\"24px\"viewBox=\"0 0 24 24\"\n",
              "       width=\"24px\">\n",
              "    <path d=\"M0 0h24v24H0V0z\" fill=\"none\"/>\n",
              "    <path d=\"M18.56 5.44l.94 2.06.94-2.06 2.06-.94-2.06-.94-.94-2.06-.94 2.06-2.06.94zm-11 1L8.5 8.5l.94-2.06 2.06-.94-2.06-.94L8.5 2.5l-.94 2.06-2.06.94zm10 10l.94 2.06.94-2.06 2.06-.94-2.06-.94-.94-2.06-.94 2.06-2.06.94z\"/><path d=\"M17.41 7.96l-1.37-1.37c-.4-.4-.92-.59-1.43-.59-.52 0-1.04.2-1.43.59L10.3 9.45l-7.72 7.72c-.78.78-.78 2.05 0 2.83L4 21.41c.39.39.9.59 1.41.59.51 0 1.02-.2 1.41-.59l7.78-7.78 2.81-2.81c.8-.78.8-2.07 0-2.86zM5.41 20L4 18.59l7.72-7.72 1.47 1.35L5.41 20z\"/>\n",
              "  </svg>\n",
              "      </button>\n",
              "      \n",
              "  <style>\n",
              "    .colab-df-container {\n",
              "      display:flex;\n",
              "      flex-wrap:wrap;\n",
              "      gap: 12px;\n",
              "    }\n",
              "\n",
              "    .colab-df-convert {\n",
              "      background-color: #E8F0FE;\n",
              "      border: none;\n",
              "      border-radius: 50%;\n",
              "      cursor: pointer;\n",
              "      display: none;\n",
              "      fill: #1967D2;\n",
              "      height: 32px;\n",
              "      padding: 0 0 0 0;\n",
              "      width: 32px;\n",
              "    }\n",
              "\n",
              "    .colab-df-convert:hover {\n",
              "      background-color: #E2EBFA;\n",
              "      box-shadow: 0px 1px 2px rgba(60, 64, 67, 0.3), 0px 1px 3px 1px rgba(60, 64, 67, 0.15);\n",
              "      fill: #174EA6;\n",
              "    }\n",
              "\n",
              "    [theme=dark] .colab-df-convert {\n",
              "      background-color: #3B4455;\n",
              "      fill: #D2E3FC;\n",
              "    }\n",
              "\n",
              "    [theme=dark] .colab-df-convert:hover {\n",
              "      background-color: #434B5C;\n",
              "      box-shadow: 0px 1px 3px 1px rgba(0, 0, 0, 0.15);\n",
              "      filter: drop-shadow(0px 1px 2px rgba(0, 0, 0, 0.3));\n",
              "      fill: #FFFFFF;\n",
              "    }\n",
              "  </style>\n",
              "\n",
              "      <script>\n",
              "        const buttonEl =\n",
              "          document.querySelector('#df-26adc495-ea78-4e1d-8e28-3370613f5b2e button.colab-df-convert');\n",
              "        buttonEl.style.display =\n",
              "          google.colab.kernel.accessAllowed ? 'block' : 'none';\n",
              "\n",
              "        async function convertToInteractive(key) {\n",
              "          const element = document.querySelector('#df-26adc495-ea78-4e1d-8e28-3370613f5b2e');\n",
              "          const dataTable =\n",
              "            await google.colab.kernel.invokeFunction('convertToInteractive',\n",
              "                                                     [key], {});\n",
              "          if (!dataTable) return;\n",
              "\n",
              "          const docLinkHtml = 'Like what you see? Visit the ' +\n",
              "            '<a target=\"_blank\" href=https://colab.research.google.com/notebooks/data_table.ipynb>data table notebook</a>'\n",
              "            + ' to learn more about interactive tables.';\n",
              "          element.innerHTML = '';\n",
              "          dataTable['output_type'] = 'display_data';\n",
              "          await google.colab.output.renderOutput(dataTable, element);\n",
              "          const docLink = document.createElement('div');\n",
              "          docLink.innerHTML = docLinkHtml;\n",
              "          element.appendChild(docLink);\n",
              "        }\n",
              "      </script>\n",
              "    </div>\n",
              "  </div>\n",
              "  "
            ]
          },
          "metadata": {},
          "execution_count": 11
        }
      ]
    },
    {
      "cell_type": "code",
      "source": [
        "grupos = accidentes.groupby(\"MEDIO\")\n",
        "conteo = grupos[\"GENERO\"].value_counts()\n",
        "datos = pd.DataFrame(conteo)\n",
        "datos"
      ],
      "metadata": {
        "colab": {
          "base_uri": "https://localhost:8080/",
          "height": 488
        },
        "id": "yVWx0-wt1QyG",
        "outputId": "00bff653-3344-429a-930f-e4ebf7433ba2"
      },
      "execution_count": 12,
      "outputs": [
        {
          "output_type": "execute_result",
          "data": {
            "text/plain": [
              "                           GENERO\n",
              "MEDIO        GENERO              \n",
              "BICICLETA    MASCULINO         89\n",
              "             FEMENINO          28\n",
              "MOTO         MASCULINO       3929\n",
              "             FEMENINO        1866\n",
              "             NO REPORTADO       3\n",
              "NO REPORTADO MASCULINO        620\n",
              "             FEMENINO         280\n",
              "PEATON       MASCULINO       4642\n",
              "             FEMENINO        2521\n",
              "             NO REPORTADO      10\n",
              "VEHICULO     MASCULINO       6243\n",
              "             FEMENINO        3140\n",
              "             NO REPORTADO       2"
            ],
            "text/html": [
              "\n",
              "  <div id=\"df-41c010e5-48c9-40dc-9eb7-5f30beee24d0\">\n",
              "    <div class=\"colab-df-container\">\n",
              "      <div>\n",
              "<style scoped>\n",
              "    .dataframe tbody tr th:only-of-type {\n",
              "        vertical-align: middle;\n",
              "    }\n",
              "\n",
              "    .dataframe tbody tr th {\n",
              "        vertical-align: top;\n",
              "    }\n",
              "\n",
              "    .dataframe thead th {\n",
              "        text-align: right;\n",
              "    }\n",
              "</style>\n",
              "<table border=\"1\" class=\"dataframe\">\n",
              "  <thead>\n",
              "    <tr style=\"text-align: right;\">\n",
              "      <th></th>\n",
              "      <th></th>\n",
              "      <th>GENERO</th>\n",
              "    </tr>\n",
              "    <tr>\n",
              "      <th>MEDIO</th>\n",
              "      <th>GENERO</th>\n",
              "      <th></th>\n",
              "    </tr>\n",
              "  </thead>\n",
              "  <tbody>\n",
              "    <tr>\n",
              "      <th rowspan=\"2\" valign=\"top\">BICICLETA</th>\n",
              "      <th>MASCULINO</th>\n",
              "      <td>89</td>\n",
              "    </tr>\n",
              "    <tr>\n",
              "      <th>FEMENINO</th>\n",
              "      <td>28</td>\n",
              "    </tr>\n",
              "    <tr>\n",
              "      <th rowspan=\"3\" valign=\"top\">MOTO</th>\n",
              "      <th>MASCULINO</th>\n",
              "      <td>3929</td>\n",
              "    </tr>\n",
              "    <tr>\n",
              "      <th>FEMENINO</th>\n",
              "      <td>1866</td>\n",
              "    </tr>\n",
              "    <tr>\n",
              "      <th>NO REPORTADO</th>\n",
              "      <td>3</td>\n",
              "    </tr>\n",
              "    <tr>\n",
              "      <th rowspan=\"2\" valign=\"top\">NO REPORTADO</th>\n",
              "      <th>MASCULINO</th>\n",
              "      <td>620</td>\n",
              "    </tr>\n",
              "    <tr>\n",
              "      <th>FEMENINO</th>\n",
              "      <td>280</td>\n",
              "    </tr>\n",
              "    <tr>\n",
              "      <th rowspan=\"3\" valign=\"top\">PEATON</th>\n",
              "      <th>MASCULINO</th>\n",
              "      <td>4642</td>\n",
              "    </tr>\n",
              "    <tr>\n",
              "      <th>FEMENINO</th>\n",
              "      <td>2521</td>\n",
              "    </tr>\n",
              "    <tr>\n",
              "      <th>NO REPORTADO</th>\n",
              "      <td>10</td>\n",
              "    </tr>\n",
              "    <tr>\n",
              "      <th rowspan=\"3\" valign=\"top\">VEHICULO</th>\n",
              "      <th>MASCULINO</th>\n",
              "      <td>6243</td>\n",
              "    </tr>\n",
              "    <tr>\n",
              "      <th>FEMENINO</th>\n",
              "      <td>3140</td>\n",
              "    </tr>\n",
              "    <tr>\n",
              "      <th>NO REPORTADO</th>\n",
              "      <td>2</td>\n",
              "    </tr>\n",
              "  </tbody>\n",
              "</table>\n",
              "</div>\n",
              "      <button class=\"colab-df-convert\" onclick=\"convertToInteractive('df-41c010e5-48c9-40dc-9eb7-5f30beee24d0')\"\n",
              "              title=\"Convert this dataframe to an interactive table.\"\n",
              "              style=\"display:none;\">\n",
              "        \n",
              "  <svg xmlns=\"http://www.w3.org/2000/svg\" height=\"24px\"viewBox=\"0 0 24 24\"\n",
              "       width=\"24px\">\n",
              "    <path d=\"M0 0h24v24H0V0z\" fill=\"none\"/>\n",
              "    <path d=\"M18.56 5.44l.94 2.06.94-2.06 2.06-.94-2.06-.94-.94-2.06-.94 2.06-2.06.94zm-11 1L8.5 8.5l.94-2.06 2.06-.94-2.06-.94L8.5 2.5l-.94 2.06-2.06.94zm10 10l.94 2.06.94-2.06 2.06-.94-2.06-.94-.94-2.06-.94 2.06-2.06.94z\"/><path d=\"M17.41 7.96l-1.37-1.37c-.4-.4-.92-.59-1.43-.59-.52 0-1.04.2-1.43.59L10.3 9.45l-7.72 7.72c-.78.78-.78 2.05 0 2.83L4 21.41c.39.39.9.59 1.41.59.51 0 1.02-.2 1.41-.59l7.78-7.78 2.81-2.81c.8-.78.8-2.07 0-2.86zM5.41 20L4 18.59l7.72-7.72 1.47 1.35L5.41 20z\"/>\n",
              "  </svg>\n",
              "      </button>\n",
              "      \n",
              "  <style>\n",
              "    .colab-df-container {\n",
              "      display:flex;\n",
              "      flex-wrap:wrap;\n",
              "      gap: 12px;\n",
              "    }\n",
              "\n",
              "    .colab-df-convert {\n",
              "      background-color: #E8F0FE;\n",
              "      border: none;\n",
              "      border-radius: 50%;\n",
              "      cursor: pointer;\n",
              "      display: none;\n",
              "      fill: #1967D2;\n",
              "      height: 32px;\n",
              "      padding: 0 0 0 0;\n",
              "      width: 32px;\n",
              "    }\n",
              "\n",
              "    .colab-df-convert:hover {\n",
              "      background-color: #E2EBFA;\n",
              "      box-shadow: 0px 1px 2px rgba(60, 64, 67, 0.3), 0px 1px 3px 1px rgba(60, 64, 67, 0.15);\n",
              "      fill: #174EA6;\n",
              "    }\n",
              "\n",
              "    [theme=dark] .colab-df-convert {\n",
              "      background-color: #3B4455;\n",
              "      fill: #D2E3FC;\n",
              "    }\n",
              "\n",
              "    [theme=dark] .colab-df-convert:hover {\n",
              "      background-color: #434B5C;\n",
              "      box-shadow: 0px 1px 3px 1px rgba(0, 0, 0, 0.15);\n",
              "      filter: drop-shadow(0px 1px 2px rgba(0, 0, 0, 0.3));\n",
              "      fill: #FFFFFF;\n",
              "    }\n",
              "  </style>\n",
              "\n",
              "      <script>\n",
              "        const buttonEl =\n",
              "          document.querySelector('#df-41c010e5-48c9-40dc-9eb7-5f30beee24d0 button.colab-df-convert');\n",
              "        buttonEl.style.display =\n",
              "          google.colab.kernel.accessAllowed ? 'block' : 'none';\n",
              "\n",
              "        async function convertToInteractive(key) {\n",
              "          const element = document.querySelector('#df-41c010e5-48c9-40dc-9eb7-5f30beee24d0');\n",
              "          const dataTable =\n",
              "            await google.colab.kernel.invokeFunction('convertToInteractive',\n",
              "                                                     [key], {});\n",
              "          if (!dataTable) return;\n",
              "\n",
              "          const docLinkHtml = 'Like what you see? Visit the ' +\n",
              "            '<a target=\"_blank\" href=https://colab.research.google.com/notebooks/data_table.ipynb>data table notebook</a>'\n",
              "            + ' to learn more about interactive tables.';\n",
              "          element.innerHTML = '';\n",
              "          dataTable['output_type'] = 'display_data';\n",
              "          await google.colab.output.renderOutput(dataTable, element);\n",
              "          const docLink = document.createElement('div');\n",
              "          docLink.innerHTML = docLinkHtml;\n",
              "          element.appendChild(docLink);\n",
              "        }\n",
              "      </script>\n",
              "    </div>\n",
              "  </div>\n",
              "  "
            ]
          },
          "metadata": {},
          "execution_count": 12
        }
      ]
    },
    {
      "cell_type": "code",
      "source": [
        "# FECHAS MAS CONCURRIDAS\n",
        "accidentes['FECHA HECHO'].value_counts()[0:10]"
      ],
      "metadata": {
        "colab": {
          "base_uri": "https://localhost:8080/"
        },
        "id": "TDJjKeS2XHjG",
        "outputId": "35d43de6-97ff-4aee-868e-10d6c13242b5"
      },
      "execution_count": 13,
      "outputs": [
        {
          "output_type": "execute_result",
          "data": {
            "text/plain": [
              "19/09/2021    118\n",
              "8/08/2021     116\n",
              "28/02/2021    114\n",
              "14/11/2021    113\n",
              "26/09/2021    111\n",
              "13/11/2021    110\n",
              "25/12/2021    109\n",
              "3/10/2021     105\n",
              "16/10/2021    102\n",
              "17/07/2021    102\n",
              "Name: FECHA HECHO, dtype: int64"
            ]
          },
          "metadata": {},
          "execution_count": 13
        }
      ]
    },
    {
      "cell_type": "code",
      "source": [
        "accidentes_m = accidentes[accidentes['GENERO']=='MASCULINO']\n",
        "y=accidentes_m['MEDIO'].value_counts()\n",
        "y\n",
        "accidentes_m = accidentes[accidentes['GENERO']=='FEMENINO']\n",
        "x=accidentes_m['MEDIO'].value_counts()"
      ],
      "metadata": {
        "id": "UoxI5305anNr"
      },
      "execution_count": 14,
      "outputs": []
    },
    {
      "cell_type": "code",
      "source": [
        "filtro=accidentes['MEDIO'].value_counts()\n",
        "filtro"
      ],
      "metadata": {
        "colab": {
          "base_uri": "https://localhost:8080/"
        },
        "id": "tEbymVrPatwx",
        "outputId": "4eda6501-2a93-4bab-ea76-ea6c0f4704d3"
      },
      "execution_count": 33,
      "outputs": [
        {
          "output_type": "execute_result",
          "data": {
            "text/plain": [
              "VEHICULO        9385\n",
              "PEATON          7173\n",
              "MOTO            5798\n",
              "NO REPORTADO     900\n",
              "BICICLETA        117\n",
              "Name: MEDIO, dtype: int64"
            ]
          },
          "metadata": {},
          "execution_count": 33
        }
      ]
    },
    {
      "cell_type": "code",
      "source": [
        "px = x"
      ],
      "metadata": {
        "id": "s40IWXeKbQpF"
      },
      "execution_count": 34,
      "outputs": []
    },
    {
      "cell_type": "code",
      "source": [
        "py = y"
      ],
      "metadata": {
        "id": "_io87LKAbTbB"
      },
      "execution_count": 35,
      "outputs": []
    },
    {
      "cell_type": "code",
      "source": [
        "pd.concat([px,py],axis=1,keys=['FEMENINO','MASCULINO'])"
      ],
      "metadata": {
        "colab": {
          "base_uri": "https://localhost:8080/",
          "height": 206
        },
        "id": "hOZsQNIWbVrD",
        "outputId": "fc3af479-c079-46ab-fa12-fdbf85077022"
      },
      "execution_count": 36,
      "outputs": [
        {
          "output_type": "execute_result",
          "data": {
            "text/plain": [
              "              FEMENINO  MASCULINO\n",
              "VEHICULO          3140       6243\n",
              "PEATON            2521       4642\n",
              "MOTO              1866       3929\n",
              "NO REPORTADO       280        620\n",
              "BICICLETA           28         89"
            ],
            "text/html": [
              "\n",
              "  <div id=\"df-20bd46cc-a87b-44d6-9fe4-5ab0af66a90a\">\n",
              "    <div class=\"colab-df-container\">\n",
              "      <div>\n",
              "<style scoped>\n",
              "    .dataframe tbody tr th:only-of-type {\n",
              "        vertical-align: middle;\n",
              "    }\n",
              "\n",
              "    .dataframe tbody tr th {\n",
              "        vertical-align: top;\n",
              "    }\n",
              "\n",
              "    .dataframe thead th {\n",
              "        text-align: right;\n",
              "    }\n",
              "</style>\n",
              "<table border=\"1\" class=\"dataframe\">\n",
              "  <thead>\n",
              "    <tr style=\"text-align: right;\">\n",
              "      <th></th>\n",
              "      <th>FEMENINO</th>\n",
              "      <th>MASCULINO</th>\n",
              "    </tr>\n",
              "  </thead>\n",
              "  <tbody>\n",
              "    <tr>\n",
              "      <th>VEHICULO</th>\n",
              "      <td>3140</td>\n",
              "      <td>6243</td>\n",
              "    </tr>\n",
              "    <tr>\n",
              "      <th>PEATON</th>\n",
              "      <td>2521</td>\n",
              "      <td>4642</td>\n",
              "    </tr>\n",
              "    <tr>\n",
              "      <th>MOTO</th>\n",
              "      <td>1866</td>\n",
              "      <td>3929</td>\n",
              "    </tr>\n",
              "    <tr>\n",
              "      <th>NO REPORTADO</th>\n",
              "      <td>280</td>\n",
              "      <td>620</td>\n",
              "    </tr>\n",
              "    <tr>\n",
              "      <th>BICICLETA</th>\n",
              "      <td>28</td>\n",
              "      <td>89</td>\n",
              "    </tr>\n",
              "  </tbody>\n",
              "</table>\n",
              "</div>\n",
              "      <button class=\"colab-df-convert\" onclick=\"convertToInteractive('df-20bd46cc-a87b-44d6-9fe4-5ab0af66a90a')\"\n",
              "              title=\"Convert this dataframe to an interactive table.\"\n",
              "              style=\"display:none;\">\n",
              "        \n",
              "  <svg xmlns=\"http://www.w3.org/2000/svg\" height=\"24px\"viewBox=\"0 0 24 24\"\n",
              "       width=\"24px\">\n",
              "    <path d=\"M0 0h24v24H0V0z\" fill=\"none\"/>\n",
              "    <path d=\"M18.56 5.44l.94 2.06.94-2.06 2.06-.94-2.06-.94-.94-2.06-.94 2.06-2.06.94zm-11 1L8.5 8.5l.94-2.06 2.06-.94-2.06-.94L8.5 2.5l-.94 2.06-2.06.94zm10 10l.94 2.06.94-2.06 2.06-.94-2.06-.94-.94-2.06-.94 2.06-2.06.94z\"/><path d=\"M17.41 7.96l-1.37-1.37c-.4-.4-.92-.59-1.43-.59-.52 0-1.04.2-1.43.59L10.3 9.45l-7.72 7.72c-.78.78-.78 2.05 0 2.83L4 21.41c.39.39.9.59 1.41.59.51 0 1.02-.2 1.41-.59l7.78-7.78 2.81-2.81c.8-.78.8-2.07 0-2.86zM5.41 20L4 18.59l7.72-7.72 1.47 1.35L5.41 20z\"/>\n",
              "  </svg>\n",
              "      </button>\n",
              "      \n",
              "  <style>\n",
              "    .colab-df-container {\n",
              "      display:flex;\n",
              "      flex-wrap:wrap;\n",
              "      gap: 12px;\n",
              "    }\n",
              "\n",
              "    .colab-df-convert {\n",
              "      background-color: #E8F0FE;\n",
              "      border: none;\n",
              "      border-radius: 50%;\n",
              "      cursor: pointer;\n",
              "      display: none;\n",
              "      fill: #1967D2;\n",
              "      height: 32px;\n",
              "      padding: 0 0 0 0;\n",
              "      width: 32px;\n",
              "    }\n",
              "\n",
              "    .colab-df-convert:hover {\n",
              "      background-color: #E2EBFA;\n",
              "      box-shadow: 0px 1px 2px rgba(60, 64, 67, 0.3), 0px 1px 3px 1px rgba(60, 64, 67, 0.15);\n",
              "      fill: #174EA6;\n",
              "    }\n",
              "\n",
              "    [theme=dark] .colab-df-convert {\n",
              "      background-color: #3B4455;\n",
              "      fill: #D2E3FC;\n",
              "    }\n",
              "\n",
              "    [theme=dark] .colab-df-convert:hover {\n",
              "      background-color: #434B5C;\n",
              "      box-shadow: 0px 1px 3px 1px rgba(0, 0, 0, 0.15);\n",
              "      filter: drop-shadow(0px 1px 2px rgba(0, 0, 0, 0.3));\n",
              "      fill: #FFFFFF;\n",
              "    }\n",
              "  </style>\n",
              "\n",
              "      <script>\n",
              "        const buttonEl =\n",
              "          document.querySelector('#df-20bd46cc-a87b-44d6-9fe4-5ab0af66a90a button.colab-df-convert');\n",
              "        buttonEl.style.display =\n",
              "          google.colab.kernel.accessAllowed ? 'block' : 'none';\n",
              "\n",
              "        async function convertToInteractive(key) {\n",
              "          const element = document.querySelector('#df-20bd46cc-a87b-44d6-9fe4-5ab0af66a90a');\n",
              "          const dataTable =\n",
              "            await google.colab.kernel.invokeFunction('convertToInteractive',\n",
              "                                                     [key], {});\n",
              "          if (!dataTable) return;\n",
              "\n",
              "          const docLinkHtml = 'Like what you see? Visit the ' +\n",
              "            '<a target=\"_blank\" href=https://colab.research.google.com/notebooks/data_table.ipynb>data table notebook</a>'\n",
              "            + ' to learn more about interactive tables.';\n",
              "          element.innerHTML = '';\n",
              "          dataTable['output_type'] = 'display_data';\n",
              "          await google.colab.output.renderOutput(dataTable, element);\n",
              "          const docLink = document.createElement('div');\n",
              "          docLink.innerHTML = docLinkHtml;\n",
              "          element.appendChild(docLink);\n",
              "        }\n",
              "      </script>\n",
              "    </div>\n",
              "  </div>\n",
              "  "
            ]
          },
          "metadata": {},
          "execution_count": 36
        }
      ]
    },
    {
      "cell_type": "markdown",
      "source": [
        "# ***GRAFICAS***"
      ],
      "metadata": {
        "id": "xi69WDgNo4pZ"
      }
    },
    {
      "cell_type": "code",
      "source": [
        "import matplotlib.pyplot as plt\n",
        "  \n",
        "MEDIO = ['BICICLETA', ' MOTO', 'NO REPORTADO', 'PEATON', 'VEHICULO'] \n",
        "  \n",
        "data = [140, 7472, 2742, 9897, 13870] \n",
        "\n",
        "   \n",
        "plt.pie(data, labels = MEDIO, autopct=\"%1.1f%%\") \n",
        "plt.axis(\"equal\")\n",
        "  \n",
        "plt.show() "
      ],
      "metadata": {
        "colab": {
          "base_uri": "https://localhost:8080/",
          "height": 253
        },
        "id": "36TkOVEdo9nr",
        "outputId": "4cb62d73-b908-4119-a7f4-5b6faf9d5ebf"
      },
      "execution_count": 41,
      "outputs": [
        {
          "output_type": "display_data",
          "data": {
            "text/plain": [
              "<Figure size 432x288 with 1 Axes>"
            ],
            "image/png": "[encoded data removed]"
          },
          "metadata": {}
        }
      ]
    },
    {
      "cell_type": "code",
      "source": [
        "import matplotlib\n",
        "import matplotlib.pyplot as plt\n",
        "import numpy as np"
      ],
      "metadata": {
        "id": "Fo_g2xJw2PQx"
      },
      "execution_count": 248,
      "outputs": []
    },
    {
      "cell_type": "code",
      "source": [
        "#Definimos una lista con DEPARTAMENTOS como string\n",
        "DEPARTAMENTOS = ['VALLE', 'CUNDINAMRCA', 'ANTIOQUIA', 'SANTANDER', 'RISARALDA']\n",
        "#Definimos una lista con CIFRAS como entero\n",
        "CIFRAS = [3665, 3236, 2153, 2098, 1336]\n",
        "\n",
        "fig, ax = plt.subplots()\n",
        "#Colocamos una etiqueta en el eje Y\n",
        "ax.set_ylabel('DEPARTAMENTOS')\n",
        "#Colocamos una etiqueta en el eje X\n",
        "ax.set_title('ACCIDENTES por departamento')\n",
        "#Creamos la grafica de barras utilizando 'paises' como eje X y 'ventas' como eje y.\n",
        "plt.bar(DEPARTAMENTOS, CIFRAS)\n",
        "plt.savefig('barras_simple.png')\n",
        "#Finalmente mostramos la grafica con el metodo show()\n",
        "plt.show()"
      ],
      "metadata": {
        "colab": {
          "base_uri": "https://localhost:8080/",
          "height": 281
        },
        "id": "NyqWAEdx3JC6",
        "outputId": "dde36bcb-d092-4ecb-92ba-97d74a8e8346"
      },
      "execution_count": 43,
      "outputs": [
        {
          "output_type": "display_data",
          "data": {
            "text/plain": [
              "<Figure size 432x288 with 1 Axes>"
            ],
            "image/png": "[encoded data removed]"
          },
          "metadata": {
            "needs_background": "light"
          }
        }
      ]
    },
    {
      "cell_type": "code",
      "source": [
        "import numpy as np\n",
        "import matplotlib.pyplot as plt\n",
        "grupos = ['VEHICULO', 'PEATON', 'MOTO', 'NO REPORTADO', 'BICICLETA']\n",
        "mujeres = [3140, 2205, 1794, 668, 28]\n",
        "hombres = [6243, 4004, 3757, 1430, 89]\n",
        " \n",
        "indice = np.arange(len(grupos))\n",
        " \n",
        "## Se crean las primeras barras\n",
        "plt.bar(indice, hombres, label='Hombres')\n",
        " \n",
        "## Se crean las segundas barras y se apilan sobre las primeras\n",
        "plt.bar(indice, mujeres, label='Mujeres',  bottom=hombres)\n",
        " \n",
        "plt.xticks(indice, grupos)\n",
        "plt.ylabel(\" # ACCIDENTES\")\n",
        "plt.xlabel(\"MEDIOS DE TRANSPORTE\")\n",
        "plt.title('ACCIDENTES POR GENERO')\n",
        "plt.legend()\n",
        " \n",
        "plt.show()"
      ],
      "metadata": {
        "colab": {
          "base_uri": "https://localhost:8080/",
          "height": 295
        },
        "id": "4OOWKGa_5QC2",
        "outputId": "16fc30a7-d1a4-4f38-8125-fde205b8d2fe"
      },
      "execution_count": 289,
      "outputs": [
        {
          "output_type": "display_data",
          "data": {
            "text/plain": [
              "<Figure size 432x288 with 1 Axes>"
            ],
            "image/png": "[encoded data removed]"
          },
          "metadata": {
            "needs_background": "light"
          }
        }
      ]
    }
  ]
}